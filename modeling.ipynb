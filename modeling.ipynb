{
 "cells": [
  {
   "cell_type": "markdown",
   "metadata": {},
   "source": [
    "# Binary Prediction of Poisonous Mushrooms - Modeling\n",
    "\n",
    "[Competition Link](https://www.kaggle.com/competitions/playground-series-s4e8/data)\n",
    "\n",
    "Goal of the competition is to predict if a mushroom is poisonous or not based on various mushroom parameters."
   ]
  },
  {
   "cell_type": "markdown",
   "metadata": {},
   "source": [
    "| Date | User | Change Type | Remarks |  \n",
    "| ---- | ---- | ----------- | ------- |\n",
    "| 29/08/2024   | Martin | Created   | Notebook created. Feature engineering and XGBoost | "
   ]
  },
  {
   "cell_type": "markdown",
   "metadata": {
    "vscode": {
     "languageId": "plaintext"
    }
   },
   "source": [
    "# Content\n",
    "\n",
    "* [Feature Engineering](#feature-engineering)\n",
    "* [Baseline - XGBoost](#baseline---xgboost)"
   ]
  },
  {
   "cell_type": "markdown",
   "metadata": {},
   "source": [
    "# Feature Engineering"
   ]
  },
  {
   "cell_type": "code",
   "execution_count": 1,
   "metadata": {},
   "outputs": [],
   "source": [
    "import os\n",
    "os.chdir(\"/tmp/poison_mushrooms\")"
   ]
  },
  {
   "cell_type": "code",
   "execution_count": 2,
   "metadata": {},
   "outputs": [],
   "source": [
    "import pandas as pd\n",
    "import numpy as np\n",
    "import seaborn as sns\n",
    "import matplotlib.pyplot as plt\n",
    "\n",
    "df = pd.read_csv(\"./data/train.csv\")\n",
    "df_test = pd.read_csv(\"./data/test.csv\")"
   ]
  },
  {
   "cell_type": "markdown",
   "metadata": {},
   "source": [
    "## General cleaning"
   ]
  },
  {
   "cell_type": "code",
   "execution_count": 3,
   "metadata": {},
   "outputs": [],
   "source": [
    "# Remove columns with too many Null\n",
    "df = df.drop(['id', 'stem-root', 'veil-type', 'veil-color', 'spore-print-color'], axis=1)\n",
    "df_test = df_test.drop(['stem-root', 'veil-type', 'veil-color', 'spore-print-color'], axis=1)"
   ]
  },
  {
   "cell_type": "markdown",
   "metadata": {},
   "source": [
    "* https://towardsdatascience.com/deep-embeddings-for-categorical-variables-cat2vec-b05c8ab63ac0\n",
    "* https://contrib.scikit-learn.org/category_encoders/catboost.html\n",
    "* https://xgboost.readthedocs.io/en/stable/get_started.html"
   ]
  },
  {
   "cell_type": "markdown",
   "metadata": {},
   "source": [
    "# Baseline XGBoost"
   ]
  },
  {
   "cell_type": "code",
   "execution_count": 20,
   "metadata": {},
   "outputs": [],
   "source": [
    "import xgboost as xgb\n",
    "from xgboost import XGBClassifier"
   ]
  },
  {
   "cell_type": "code",
   "execution_count": 5,
   "metadata": {},
   "outputs": [
    {
     "data": {
      "text/plain": [
       "class                    object\n",
       "cap-diameter            float64\n",
       "cap-shape                object\n",
       "cap-surface              object\n",
       "cap-color                object\n",
       "does-bruise-or-bleed     object\n",
       "gill-attachment          object\n",
       "gill-spacing             object\n",
       "gill-color               object\n",
       "stem-height             float64\n",
       "stem-width              float64\n",
       "stem-surface             object\n",
       "stem-color               object\n",
       "has-ring                 object\n",
       "ring-type                object\n",
       "habitat                  object\n",
       "season                   object\n",
       "dtype: object"
      ]
     },
     "execution_count": 5,
     "metadata": {},
     "output_type": "execute_result"
    }
   ],
   "source": [
    "df.dtypes"
   ]
  },
  {
   "cell_type": "code",
   "execution_count": 9,
   "metadata": {},
   "outputs": [],
   "source": [
    "# Split variables\n",
    "y = df['class']\n",
    "X = df.drop('class', axis=1)\n",
    "\n",
    "mapper = {\n",
    "  'e': 0,\n",
    "  'p': 1\n",
    "}\n",
    "y = [mapper[i] for i in y]\n"
   ]
  },
  {
   "cell_type": "code",
   "execution_count": 13,
   "metadata": {},
   "outputs": [],
   "source": [
    "# Setting categorical variables\n",
    "for t, col in zip(X.dtypes, X.columns):\n",
    "  if t == 'object':\n",
    "    X[col] = X[col].astype(\"category\")"
   ]
  },
  {
   "cell_type": "code",
   "execution_count": 17,
   "metadata": {},
   "outputs": [],
   "source": [
    "# Define XGBoost model\n",
    "clf = XGBClassifier(\n",
    "  tree_method='hist',\n",
    "  enable_categorical=True,\n",
    "  device='cuda'\n",
    ")\n",
    "clf.fit(X, y)\n",
    "clf.save_model(\"models/baseline_xgb.json\")"
   ]
  },
  {
   "cell_type": "code",
   "execution_count": 25,
   "metadata": {},
   "outputs": [
    {
     "name": "stderr",
     "output_type": "stream",
     "text": [
      "/usr/local/lib/python3.11/dist-packages/xgboost/core.py:158: UserWarning: [14:52:47] WARNING: /workspace/src/common/error_msg.cc:58: Falling back to prediction using DMatrix due to mismatched devices. This might lead to higher memory usage and slower performance. XGBoost is running on: cuda:0, while the input data is on: cpu.\n",
      "Potential solutions:\n",
      "- Use a data structure that matches the device ordinal in the booster.\n",
      "- Set the device for booster before call to inplace_predict.\n",
      "\n",
      "This warning will only be shown once.\n",
      "\n",
      "  warnings.warn(smsg, UserWarning)\n"
     ]
    }
   ],
   "source": [
    "# Predictions\n",
    "ids = df_test['id']\n",
    "df_test = df_test.drop('id', axis=1)\n",
    "\n",
    "# Setting columns\n",
    "for t, col in zip(df_test.dtypes, df_test.columns):\n",
    "  if t == 'object':\n",
    "    df_test[col] = df_test[col].astype(\"category\")\n",
    "\n",
    "preds = clf.predict(df_test, device='cuda')"
   ]
  },
  {
   "cell_type": "code",
   "execution_count": 32,
   "metadata": {},
   "outputs": [],
   "source": [
    "# Creating output\n",
    "reverse_mapper = {v: k for k, v in mapper.items()}\n",
    "result = [reverse_mapper[i] for i in preds]\n",
    "\n",
    "final = pd.DataFrame({\n",
    "  'id': ids,\n",
    "  'class': result\n",
    "})\n",
    "\n",
    "final.to_csv('results/baseline_xgb.csv', index=False)"
   ]
  },
  {
   "cell_type": "markdown",
   "metadata": {},
   "source": [
    "Score on Kaggle: 0.17899"
   ]
  }
 ],
 "metadata": {
  "kernelspec": {
   "display_name": "Python 3 (ipykernel)",
   "language": "python",
   "name": "python3"
  },
  "language_info": {
   "codemirror_mode": {
    "name": "ipython",
    "version": 3
   },
   "file_extension": ".py",
   "mimetype": "text/x-python",
   "name": "python",
   "nbconvert_exporter": "python",
   "pygments_lexer": "ipython3",
   "version": "3.11.0rc1"
  }
 },
 "nbformat": 4,
 "nbformat_minor": 2
}
